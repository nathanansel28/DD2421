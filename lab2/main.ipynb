{
 "cells": [
  {
   "cell_type": "code",
   "execution_count": 1,
   "metadata": {},
   "outputs": [],
   "source": [
    "from scipy.optimize import minimize\n",
    "import matplotlib.pyplot as plt\n",
    "import numpy as np\n",
    "import random\n"
   ]
  },
  {
   "cell_type": "code",
   "execution_count": 2,
   "metadata": {},
   "outputs": [],
   "source": [
    "np.random.seed(100)\n",
    "classA = np.concatenate((\n",
    "    np.random.randn(10, 2) * 0.2 + [1.5, 0.5],\n",
    "    np.random.randn(10, 2) * 0.2 + [-1.5, 0.5]\n",
    "))\n",
    "\n",
    "np.random.seed(100)\n",
    "classB = np.random.randn(20, 2) * 0.2 + [0.0, -0.5]\n",
    "\n",
    "inputs = np.concatenate((classA, classB))\n",
    "targets = np.concatenate((\n",
    "    np.ones(classA.shape[0]),\n",
    "    -np.ones(classB.shape[0])\n",
    "))\n",
    "\n",
    "np.random.seed(100)\n",
    "N = inputs.shape[0]  # Number of rows (samples)\n",
    "permute = list(range(N))\n",
    "random.shuffle(permute)\n",
    "\n",
    "inputs = inputs[permute, :]\n",
    "targets = targets[permute]"
   ]
  },
  {
   "cell_type": "code",
   "execution_count": 3,
   "metadata": {},
   "outputs": [
    {
     "name": "stdout",
     "output_type": "stream",
     "text": [
      "[[-0.06524761 -0.4888648 ]\n",
      " [ 1.41237288  0.27633635]\n",
      " [ 1.73060716  0.44951279]\n",
      " [ 1.69626416  0.60284377]\n",
      " [ 1.15004691  0.56853608]\n",
      " [-0.0916054  -0.4129673 ]\n",
      " [-1.46309626  0.68741644]\n",
      " [ 1.46210083  0.55100029]\n",
      " [-0.34995309 -0.43146392]\n",
      " [-0.15127046 -0.3367092 ]\n",
      " [ 1.38328099  0.66336941]\n",
      " [-1.55037583  0.33151285]\n",
      " [-1.35379993  0.77231123]\n",
      " [-1.45552008  0.2113566 ]\n",
      " [ 0.14620007 -0.22768877]\n",
      " [-0.08762712 -0.72366365]\n",
      " [ 0.04447992 -0.7886434 ]\n",
      " [ 0.15008895 -0.59118939]\n",
      " [-0.10625608 -0.29405346]\n",
      " [ 1.39374392  0.70594654]\n",
      " [ 0.32379633 -0.19167897]\n",
      " [ 0.23060716 -0.55048721]\n",
      " [ 0.23792445 -0.83812337]\n",
      " [ 0.19626416 -0.39715623]\n",
      " [-0.03789917 -0.44899971]\n",
      " [ 0.03690374 -0.31258356]\n",
      " [-0.05037583 -0.66848715]\n",
      " [-1.17620367  0.80832103]\n",
      " [ 1.63454416  0.47911777]\n",
      " [-1.56524761  0.5111352 ]\n",
      " [ 1.4083946   0.5870327 ]\n",
      " [-1.65127046  0.6632908 ]\n",
      " [-1.26207555  0.16187663]\n",
      " [-1.77127981  0.2535131 ]\n",
      " [-0.11671901 -0.33663059]\n",
      " [-0.27127981 -0.7464869 ]\n",
      " [-1.34991105  0.40881061]\n",
      " [ 1.54423593  0.28599133]\n",
      " [ 0.04423593 -0.71400867]\n",
      " [ 0.13454416 -0.52088223]]\n",
      "[-1.  1.  1.  1.  1. -1.  1.  1. -1. -1.  1.  1.  1.  1. -1. -1. -1. -1.\n",
      " -1.  1. -1. -1. -1. -1. -1. -1. -1.  1.  1.  1.  1.  1.  1.  1. -1. -1.\n",
      "  1.  1. -1. -1.]\n"
     ]
    }
   ],
   "source": [
    "print(inputs)\n",
    "print(targets)"
   ]
  },
  {
   "cell_type": "code",
   "execution_count": null,
   "metadata": {},
   "outputs": [],
   "source": []
  },
  {
   "cell_type": "code",
   "execution_count": 19,
   "metadata": {},
   "outputs": [
    {
     "data": {
      "text/plain": [
       "0"
      ]
     },
     "execution_count": 19,
     "metadata": {},
     "output_type": "execute_result"
    }
   ],
   "source": [
    "degree = 0\n",
    "degree if degree is not None else 2"
   ]
  },
  {
   "cell_type": "code",
   "execution_count": 4,
   "metadata": {},
   "outputs": [
    {
     "data": {
      "text/plain": [
       "False"
      ]
     },
     "execution_count": 4,
     "metadata": {},
     "output_type": "execute_result"
    }
   ],
   "source": [
    "bool(0)"
   ]
  },
  {
   "cell_type": "code",
   "execution_count": 5,
   "metadata": {},
   "outputs": [],
   "source": [
    "from tools import SupportVectorMachine\n",
    "\n",
    "svm = SupportVectorMachine(X=inputs, y=targets, kernel_type='linear')"
   ]
  },
  {
   "cell_type": "code",
   "execution_count": 6,
   "metadata": {},
   "outputs": [
    {
     "data": {
      "text/plain": [
       "array([6.87889444e-16, 6.61464525e+00, 2.07719714e-14, 0.00000000e+00,\n",
       "       3.23779006e-15, 0.00000000e+00, 1.27771656e-14, 5.61397218e-15,\n",
       "       0.00000000e+00, 0.00000000e+00, 2.60748694e-15, 0.00000000e+00,\n",
       "       1.20899114e-14, 0.00000000e+00, 0.00000000e+00, 6.46101372e-15,\n",
       "       7.72012620e-15, 7.40440768e-15, 0.00000000e+00, 2.79208642e-15,\n",
       "       1.12831186e+01, 7.39674281e-15, 6.58065646e-15, 0.00000000e+00,\n",
       "       0.00000000e+00, 0.00000000e+00, 8.11277404e-15, 1.28932692e-14,\n",
       "       9.80666176e-16, 9.91277876e-15, 5.37637879e-16, 1.34087708e-14,\n",
       "       4.66847338e+00, 0.00000000e+00, 9.92737707e-16, 1.01732743e-14,\n",
       "       0.00000000e+00, 0.00000000e+00, 5.89203548e-15, 6.13501881e-15])"
      ]
     },
     "execution_count": 6,
     "metadata": {},
     "output_type": "execute_result"
    }
   ],
   "source": [
    "svm.fit()"
   ]
  },
  {
   "cell_type": "code",
   "execution_count": 7,
   "metadata": {},
   "outputs": [
    {
     "data": {
      "text/plain": [
       "array([6.87889444e-16, 6.61464525e+00, 2.07719714e-14, 0.00000000e+00,\n",
       "       3.23779006e-15, 0.00000000e+00, 1.27771656e-14, 5.61397218e-15,\n",
       "       0.00000000e+00, 0.00000000e+00, 2.60748694e-15, 0.00000000e+00,\n",
       "       1.20899114e-14, 0.00000000e+00, 0.00000000e+00, 6.46101372e-15,\n",
       "       7.72012620e-15, 7.40440768e-15, 0.00000000e+00, 2.79208642e-15,\n",
       "       1.12831186e+01, 7.39674281e-15, 6.58065646e-15, 0.00000000e+00,\n",
       "       0.00000000e+00, 0.00000000e+00, 8.11277404e-15, 1.28932692e-14,\n",
       "       9.80666176e-16, 9.91277876e-15, 5.37637879e-16, 1.34087708e-14,\n",
       "       4.66847338e+00, 0.00000000e+00, 9.92737707e-16, 1.01732743e-14,\n",
       "       0.00000000e+00, 0.00000000e+00, 5.89203548e-15, 6.13501881e-15])"
      ]
     },
     "execution_count": 7,
     "metadata": {},
     "output_type": "execute_result"
    }
   ],
   "source": [
    "alphas = svm.ret['x']\n",
    "alphas"
   ]
  },
  {
   "cell_type": "code",
   "execution_count": 8,
   "metadata": {},
   "outputs": [
    {
     "data": {
      "text/plain": [
       "numpy.ndarray"
      ]
     },
     "execution_count": 8,
     "metadata": {},
     "output_type": "execute_result"
    }
   ],
   "source": [
    "nonzero_indices = np.where(alphas > 1e-5)[0]\n",
    "type(nonzero_indices)"
   ]
  },
  {
   "cell_type": "code",
   "execution_count": 9,
   "metadata": {},
   "outputs": [
    {
     "name": "stdout",
     "output_type": "stream",
     "text": [
      "2.0771971373002606e-14\n",
      "[1.73060716 0.44951279]\n",
      "(40, 2)\n",
      "[[-0.06524761 -0.4888648 ]\n",
      " [ 1.41237288  0.27633635]\n",
      " [ 1.73060716  0.44951279]\n",
      " [ 1.69626416  0.60284377]\n",
      " [ 1.15004691  0.56853608]\n",
      " [-0.0916054  -0.4129673 ]\n",
      " [-1.46309626  0.68741644]\n",
      " [ 1.46210083  0.55100029]\n",
      " [-0.34995309 -0.43146392]\n",
      " [-0.15127046 -0.3367092 ]\n",
      " [ 1.38328099  0.66336941]\n",
      " [-1.55037583  0.33151285]\n",
      " [-1.35379993  0.77231123]\n",
      " [-1.45552008  0.2113566 ]\n",
      " [ 0.14620007 -0.22768877]\n",
      " [-0.08762712 -0.72366365]\n",
      " [ 0.04447992 -0.7886434 ]\n",
      " [ 0.15008895 -0.59118939]\n",
      " [-0.10625608 -0.29405346]\n",
      " [ 1.39374392  0.70594654]\n",
      " [ 0.32379633 -0.19167897]\n",
      " [ 0.23060716 -0.55048721]\n",
      " [ 0.23792445 -0.83812337]\n",
      " [ 0.19626416 -0.39715623]\n",
      " [-0.03789917 -0.44899971]\n",
      " [ 0.03690374 -0.31258356]\n",
      " [-0.05037583 -0.66848715]\n",
      " [-1.17620367  0.80832103]\n",
      " [ 1.63454416  0.47911777]\n",
      " [-1.56524761  0.5111352 ]\n",
      " [ 1.4083946   0.5870327 ]\n",
      " [-1.65127046  0.6632908 ]\n",
      " [-1.26207555  0.16187663]\n",
      " [-1.77127981  0.2535131 ]\n",
      " [-0.11671901 -0.33663059]\n",
      " [-0.27127981 -0.7464869 ]\n",
      " [-1.34991105  0.40881061]\n",
      " [ 1.54423593  0.28599133]\n",
      " [ 0.04423593 -0.71400867]\n",
      " [ 0.13454416 -0.52088223]]\n"
     ]
    }
   ],
   "source": [
    "# for idx in nonzero_indices:\n",
    "#     print(idx)\n",
    "print(svm.alpha[2])\n",
    "print(svm.X[2])\n",
    "print(svm.X.shape)\n",
    "print(svm.X)"
   ]
  },
  {
   "cell_type": "code",
   "execution_count": 10,
   "metadata": {},
   "outputs": [
    {
     "name": "stdout",
     "output_type": "stream",
     "text": [
      "[6.87889444e-16 6.61464525e+00 2.07719714e-14 0.00000000e+00\n",
      " 3.23779006e-15 0.00000000e+00 1.27771656e-14 5.61397218e-15\n",
      " 0.00000000e+00 0.00000000e+00 2.60748694e-15 0.00000000e+00\n",
      " 1.20899114e-14 0.00000000e+00 0.00000000e+00 6.46101372e-15\n",
      " 7.72012620e-15 7.40440768e-15 0.00000000e+00 2.79208642e-15\n",
      " 1.12831186e+01 7.39674281e-15 6.58065646e-15 0.00000000e+00\n",
      " 0.00000000e+00 0.00000000e+00 8.11277404e-15 1.28932692e-14\n",
      " 9.80666176e-16 9.91277876e-15 5.37637879e-16 1.34087708e-14\n",
      " 4.66847338e+00 0.00000000e+00 9.92737707e-16 1.01732743e-14\n",
      " 0.00000000e+00 0.00000000e+00 5.89203548e-15 6.13501881e-15]\n",
      "[-1.  1.  1.  1.  1. -1.  1.  1. -1. -1.  1.  1.  1.  1. -1. -1. -1. -1.\n",
      " -1.  1. -1. -1. -1. -1. -1. -1. -1.  1.  1.  1.  1.  1.  1.  1. -1. -1.\n",
      "  1.  1. -1. -1.]\n",
      "\n",
      "7.105427357601002e-15\n"
     ]
    }
   ],
   "source": [
    "print(svm.alpha)\n",
    "print(svm.y)\n",
    "print()\n",
    "print(np.sum(svm.alpha * svm.y))"
   ]
  },
  {
   "cell_type": "code",
   "execution_count": 11,
   "metadata": {},
   "outputs": [
    {
     "name": "stdout",
     "output_type": "stream",
     "text": [
      "True\n",
      "True\n"
     ]
    }
   ],
   "source": [
    "print(svm._indicator(svm.X[0]))\n",
    "print(bool(svm.y[0]))"
   ]
  },
  {
   "cell_type": "code",
   "execution_count": 12,
   "metadata": {},
   "outputs": [
    {
     "data": {
      "text/plain": [
       "array([ True,  True,  True,  True,  True,  True,  True,  True,  True,\n",
       "        True,  True,  True,  True,  True,  True,  True,  True,  True,\n",
       "        True,  True,  True,  True,  True,  True,  True,  True,  True,\n",
       "        True,  True,  True,  True,  True,  True,  True,  True,  True,\n",
       "        True,  True,  True,  True])"
      ]
     },
     "execution_count": 12,
     "metadata": {},
     "output_type": "execute_result"
    }
   ],
   "source": [
    "y_preds = svm.predict(inputs)\n",
    "y_preds"
   ]
  },
  {
   "cell_type": "code",
   "execution_count": null,
   "metadata": {},
   "outputs": [],
   "source": []
  },
  {
   "cell_type": "code",
   "execution_count": 13,
   "metadata": {},
   "outputs": [
    {
     "data": {
      "text/plain": [
       "0.5"
      ]
     },
     "execution_count": 13,
     "metadata": {},
     "output_type": "execute_result"
    }
   ],
   "source": [
    "svm.evaluate(y_preds, targets)"
   ]
  },
  {
   "cell_type": "code",
   "execution_count": null,
   "metadata": {},
   "outputs": [],
   "source": []
  },
  {
   "cell_type": "code",
   "execution_count": null,
   "metadata": {},
   "outputs": [],
   "source": []
  }
 ],
 "metadata": {
  "kernelspec": {
   "display_name": "venv",
   "language": "python",
   "name": "python3"
  },
  "language_info": {
   "codemirror_mode": {
    "name": "ipython",
    "version": 3
   },
   "file_extension": ".py",
   "mimetype": "text/x-python",
   "name": "python",
   "nbconvert_exporter": "python",
   "pygments_lexer": "ipython3",
   "version": "3.11.6"
  }
 },
 "nbformat": 4,
 "nbformat_minor": 2
}
